{
 "cells": [
  {
   "cell_type": "code",
   "execution_count": 4,
   "metadata": {},
   "outputs": [],
   "source": [
    "import pandas as pd"
   ]
  },
  {
   "cell_type": "code",
   "execution_count": 5,
   "metadata": {},
   "outputs": [],
   "source": [
    "import csv"
   ]
  },
  {
   "cell_type": "code",
   "execution_count": 6,
   "metadata": {},
   "outputs": [
    {
     "data": {
      "text/html": [
       "<div>\n",
       "<style scoped>\n",
       "    .dataframe tbody tr th:only-of-type {\n",
       "        vertical-align: middle;\n",
       "    }\n",
       "\n",
       "    .dataframe tbody tr th {\n",
       "        vertical-align: top;\n",
       "    }\n",
       "\n",
       "    .dataframe thead th {\n",
       "        text-align: right;\n",
       "    }\n",
       "</style>\n",
       "<table border=\"1\" class=\"dataframe\">\n",
       "  <thead>\n",
       "    <tr style=\"text-align: right;\">\n",
       "      <th></th>\n",
       "      <th>question</th>\n",
       "      <th>tags</th>\n",
       "    </tr>\n",
       "  </thead>\n",
       "  <tbody>\n",
       "    <tr>\n",
       "      <th>0</th>\n",
       "      <td>Can 'that' function as the subject in an indep...</td>\n",
       "      <td>pronouns</td>\n",
       "    </tr>\n",
       "    <tr>\n",
       "      <th>1</th>\n",
       "      <td>Need a word for when an event or situation tha...</td>\n",
       "      <td>single-word-requests,phrase-requests</td>\n",
       "    </tr>\n",
       "    <tr>\n",
       "      <th>2</th>\n",
       "      <td>Word for the strategy of stating the right ans...</td>\n",
       "      <td>single-word-requests</td>\n",
       "    </tr>\n",
       "    <tr>\n",
       "      <th>3</th>\n",
       "      <td>Who has a hurt expression in “He looked at her...</td>\n",
       "      <td>meaning</td>\n",
       "    </tr>\n",
       "    <tr>\n",
       "      <th>4</th>\n",
       "      <td>single quotes or not [duplicate]</td>\n",
       "      <td>quotations</td>\n",
       "    </tr>\n",
       "  </tbody>\n",
       "</table>\n",
       "</div>"
      ],
      "text/plain": [
       "                                            question  \\\n",
       "0  Can 'that' function as the subject in an indep...   \n",
       "1  Need a word for when an event or situation tha...   \n",
       "2  Word for the strategy of stating the right ans...   \n",
       "3  Who has a hurt expression in “He looked at her...   \n",
       "4                   single quotes or not [duplicate]   \n",
       "\n",
       "                                   tags  \n",
       "0                              pronouns  \n",
       "1  single-word-requests,phrase-requests  \n",
       "2                  single-word-requests  \n",
       "3                               meaning  \n",
       "4                            quotations  "
      ]
     },
     "execution_count": 6,
     "metadata": {},
     "output_type": "execute_result"
    }
   ],
   "source": [
    "data = pd.read_csv(\"English_dataset.csv\", encoding = \"utf-8\")\n",
    "data.head()"
   ]
  },
  {
   "cell_type": "code",
   "execution_count": 9,
   "metadata": {},
   "outputs": [],
   "source": [
    "# Converting to format which can run on fasttext\n",
    "data['tags']=['__label__'+s.replace(',',' __label__') for s in data['tags']]"
   ]
  },
  {
   "cell_type": "code",
   "execution_count": 10,
   "metadata": {},
   "outputs": [
    {
     "data": {
      "text/plain": [
       "0                                        __label__pronouns\n",
       "1        __label__single-word-requests __label__phrase-...\n",
       "2                            __label__single-word-requests\n",
       "3                                         __label__meaning\n",
       "4                                      __label__quotations\n",
       "5                                         __label__grammar\n",
       "6                              __label__offensive-language\n",
       "7        __label__pronunciation __label__archaic __labe...\n",
       "8        __label__single-word-requests __label__phrase-...\n",
       "9        __label__single-word-requests __label__nouns _...\n",
       "10       __label__single-word-requests __label__phrase-...\n",
       "11                  __label__pronunciation __label__vowels\n",
       "12       __label__meaning __label__etymology __label__p...\n",
       "13          __label__single-word-requests __label__phrases\n",
       "14                         __label__writing __label__ielts\n",
       "15       __label__punctuation __label__capitalization _...\n",
       "16                             __label__grammatical-number\n",
       "17                __label__grammar __label__grammaticality\n",
       "18                                           __label__that\n",
       "19                               __label__sentence-meaning\n",
       "20                                       __label__articles\n",
       "21          __label__relative-clauses __label__antecedents\n",
       "22                                    __label__punctuation\n",
       "23         __label__american-english __label__oxford-comma\n",
       "24       __label__american-english __label__history __l...\n",
       "25                                    __label__expressions\n",
       "26                                    __label__word-choice\n",
       "27                                   __label__prepositions\n",
       "28                                        __label__grammar\n",
       "29                                 __label__grammaticality\n",
       "                               ...                        \n",
       "32470    __label__word-choice __label__verbs __label__n...\n",
       "32471            __label__questions __label__question-tags\n",
       "32472                        __label__single-word-requests\n",
       "32473                                     __label__meaning\n",
       "32474    __label__word-usage __label__differences __lab...\n",
       "32475     __label__expressions __label__meaning-in-context\n",
       "32476    __label__single-word-requests __label__termino...\n",
       "32477    __label__dialects __label__indefinite-articles...\n",
       "32478    __label__conditionals __label__would __label__...\n",
       "32479                                     __label__numbers\n",
       "32480                   __label__slang __label__neologisms\n",
       "32481    __label__meaning __label__etymology __label__h...\n",
       "32482                                     __label__symbols\n",
       "32483    __label__meaning-in-context __label__differenc...\n",
       "32484    __label__differences __label__prepositions __l...\n",
       "32485    __label__meaning __label__grammar __label__syn...\n",
       "32486    __label__meaning __label__phrases __label__wor...\n",
       "32487          __label__parts-of-speech __label__irregular\n",
       "32488    __label__single-word-requests __label__phrase-...\n",
       "32489    __label__meaning __label__etymology __label__e...\n",
       "32490    __label__single-word-requests __label__phrase-...\n",
       "32491                       __label__conjunction-reduction\n",
       "32492    __label__meaning __label__american-english __l...\n",
       "32493    __label__single-word-requests __label__phrase-...\n",
       "32494             __label__meaning __label__phrase-meaning\n",
       "32495                            __label__collective-nouns\n",
       "32496                 __label__grammar __label__word-usage\n",
       "32497    __label__grammatical-number __label__terminolo...\n",
       "32498         __label__articles __label__expression-choice\n",
       "32499    __label__orthography __label__writing-style __...\n",
       "Name: tags, Length: 32500, dtype: object"
      ]
     },
     "execution_count": 10,
     "metadata": {},
     "output_type": "execute_result"
    }
   ],
   "source": [
    "data['tags']"
   ]
  },
  {
   "cell_type": "code",
   "execution_count": 6,
   "metadata": {},
   "outputs": [],
   "source": [
    "# Adding both the columns\n",
    "data_output = data['tags']+ ' ' + data['question']"
   ]
  },
  {
   "cell_type": "code",
   "execution_count": 7,
   "metadata": {},
   "outputs": [
    {
     "data": {
      "text/plain": [
       "0    __label__pronouns Can 'that' function as the s...\n",
       "1    __label__single-word-requests __label__phrase-...\n",
       "2    __label__single-word-requests Word for the str...\n",
       "3    __label__meaning Who has a hurt expression in ...\n",
       "4    __label__quotations single quotes or not [dupl...\n",
       "dtype: object"
      ]
     },
     "execution_count": 7,
     "metadata": {},
     "output_type": "execute_result"
    }
   ],
   "source": [
    "data_output.head()"
   ]
  },
  {
   "cell_type": "code",
   "execution_count": 8,
   "metadata": {},
   "outputs": [],
   "source": [
    "# Writing the csv file to Text\n",
    "data_output.to_csv(r' data.txt', index=False, sep=' ', header=False, quoting=csv.QUOTE_NONE, quotechar=\"\", escapechar=\" \")"
   ]
  },
  {
   "cell_type": "code",
   "execution_count": null,
   "metadata": {},
   "outputs": [],
   "source": []
  },
  {
   "cell_type": "code",
   "execution_count": null,
   "metadata": {},
   "outputs": [],
   "source": []
  },
  {
   "cell_type": "code",
   "execution_count": null,
   "metadata": {},
   "outputs": [],
   "source": []
  }
 ],
 "metadata": {
  "kernelspec": {
   "display_name": "Python 3",
   "language": "python",
   "name": "python3"
  },
  "language_info": {
   "codemirror_mode": {
    "name": "ipython",
    "version": 3
   },
   "file_extension": ".py",
   "mimetype": "text/x-python",
   "name": "python",
   "nbconvert_exporter": "python",
   "pygments_lexer": "ipython3",
   "version": "3.7.3"
  }
 },
 "nbformat": 4,
 "nbformat_minor": 2
}
